{
 "cells": [
  {
   "cell_type": "markdown",
   "metadata": {},
   "source": [
    "# Quantize a vector\n"
   ]
  },
  {
   "cell_type": "markdown",
   "metadata": {},
   "source": [
    "## Quantize a vector using EasyQuant"
   ]
  },
  {
   "cell_type": "markdown",
   "metadata": {},
   "source": [
    "Since the vector has a very short length, no outlier detection was done."
   ]
  },
  {
   "cell_type": "code",
   "execution_count": 2,
   "metadata": {},
   "outputs": [
    {
     "name": "stdout",
     "output_type": "stream",
     "text": [
      "['/opt/anaconda3/lib/python311.zip', '/opt/anaconda3/lib/python3.11', '/opt/anaconda3/lib/python3.11/lib-dynload', '', '/Users/deyucao/Library/Caches/pypoetry/virtualenvs/quantization-ubRKDRCl-py3.11/lib/python3.11/site-packages', '/Users/deyucao/Quantization']\n"
     ]
    }
   ],
   "source": [
    "import sys\n",
    "import os\n",
    "import matplotlib.pyplot as plt\n",
    "import torch\n",
    "\n",
    "# Add the parent directory to the path\n",
    "sys.path.append(os.path.abspath(\"..\"))\n",
    "print(sys.path)\n",
    "\n",
    "from core.models.easy_quant import EasyQuantConfig, EasyQuant\n",
    "from core.utils.quantization_helpers import compute_quantization_error"
   ]
  },
  {
   "cell_type": "code",
   "execution_count": 3,
   "metadata": {},
   "outputs": [],
   "source": [
    "original_vector = [3.2, -1.4, 2.5, -0.9, 1.8, -3.7, 0.0, 4.0, 2.2, -1.3]\n",
    "original_tensor = torch.tensor(original_vector)\n",
    "\n",
    "num_bits = 3"
   ]
  },
  {
   "cell_type": "code",
   "execution_count": 4,
   "metadata": {},
   "outputs": [
    {
     "name": "stdout",
     "output_type": "stream",
     "text": [
      "Step size: 1.3333333730697632\n",
      "Original tensor: tensor([ 3.2000, -1.4000,  2.5000, -0.9000,  1.8000, -3.7000,  0.0000,  4.0000,\n",
      "         2.2000, -1.3000])\n",
      "Naive quantized tensor: tensor([ 2.6667, -1.3333,  2.6667, -1.3333,  1.3333, -4.0000,  0.0000,  4.0000,\n",
      "         2.6667, -1.3333])\n",
      "Quantization error (naive): 1.0311110019683838\n"
     ]
    }
   ],
   "source": [
    "# naive quantization\n",
    "max_val = torch.max(torch.abs(original_tensor))\n",
    "step_size = max_val / ((2 ** (num_bits - 1)) - 1)\n",
    "print(f\"Step size: {step_size}\")\n",
    "quantized_tensor_naive = torch.round(original_tensor / step_size) * step_size\n",
    "\n",
    "# compute quantization error\n",
    "quantization_error_naive = compute_quantization_error(original_tensor, quantized_tensor_naive)\n",
    "\n",
    "print(f\"Original tensor: {original_tensor}\")\n",
    "print(f\"Naive quantized tensor: {quantized_tensor_naive}\")\n",
    "print(f\"Quantization error (naive): {quantization_error_naive}\")"
   ]
  },
  {
   "cell_type": "code",
   "execution_count": 10,
   "metadata": {},
   "outputs": [
    {
     "name": "stdout",
     "output_type": "stream",
     "text": [
      "Optimizing quantization range using EasyQuant algorithm\n",
      "Learning rate: 0.001\n",
      "Number of epochs: 200\n",
      "Initial quantization range: 1.3333333730697632\n",
      "Epoch 1: Quantization range = 1.3323333263397217, Reconstruction error = 1.0311110019683838\n",
      "Epoch 2: Quantization range = 1.3313343524932861, Reconstruction error = 1.0290783643722534\n",
      "Epoch 3: Quantization range = 1.3303370475769043, Reconstruction error = 1.027115821838379\n",
      "Epoch 4: Quantization range = 1.329342246055603, Reconstruction error = 1.025223970413208\n",
      "Epoch 5: Quantization range = 1.3283507823944092, Reconstruction error = 1.0234044790267944\n",
      "Epoch 6: Quantization range = 1.32736337184906, Reconstruction error = 1.0216578245162964\n",
      "Epoch 7: Quantization range = 1.326380968093872, Reconstruction error = 1.0199849605560303\n",
      "Epoch 8: Quantization range = 1.325404405593872, Reconstruction error = 1.0183862447738647\n",
      "Epoch 9: Quantization range = 1.3244346380233765, Reconstruction error = 1.016862154006958\n",
      "Epoch 10: Quantization range = 1.3234726190567017, Reconstruction error = 1.01541268825531\n",
      "Epoch 11: Quantization range = 1.3225194215774536, Reconstruction error = 1.014038324356079\n",
      "Epoch 12: Quantization range = 1.3215758800506592, Reconstruction error = 1.0127383470535278\n",
      "Epoch 13: Quantization range = 1.3206431865692139, Reconstruction error = 1.0115123987197876\n",
      "Epoch 14: Quantization range = 1.319722294807434, Reconstruction error = 1.0103602409362793\n",
      "Epoch 15: Quantization range = 1.3188142776489258, Reconstruction error = 1.0092805624008179\n",
      "Epoch 16: Quantization range = 1.317920207977295, Reconstruction error = 1.008272409439087\n",
      "Epoch 17: Quantization range = 1.3170411586761475, Reconstruction error = 1.007334589958191\n",
      "Epoch 18: Quantization range = 1.3161782026290894, Reconstruction error = 1.0064654350280762\n",
      "Epoch 19: Quantization range = 1.3153324127197266, Reconstruction error = 1.005663275718689\n",
      "Epoch 20: Quantization range = 1.314504861831665, Reconstruction error = 1.004926323890686\n",
      "Epoch 21: Quantization range = 1.3136966228485107, Reconstruction error = 1.0042524337768555\n",
      "Epoch 22: Quantization range = 1.3129087686538696, Reconstruction error = 1.0036389827728271\n",
      "Epoch 23: Quantization range = 1.312142252922058, Reconstruction error = 1.0030839443206787\n",
      "Epoch 24: Quantization range = 1.3113980293273926, Reconstruction error = 1.0025843381881714\n",
      "Epoch 25: Quantization range = 1.3106770515441895, Reconstruction error = 1.002137541770935\n",
      "Epoch 26: Quantization range = 1.3099801540374756, Reconstruction error = 1.0017404556274414\n",
      "Epoch 27: Quantization range = 1.3093081712722778, Reconstruction error = 1.0013904571533203\n",
      "Epoch 28: Quantization range = 1.308661937713623, Reconstruction error = 1.001084327697754\n",
      "Epoch 29: Quantization range = 1.308042049407959, Reconstruction error = 1.0008186101913452\n",
      "Epoch 30: Quantization range = 1.3074491024017334, Reconstruction error = 1.000590443611145\n",
      "Epoch 31: Quantization range = 1.3068835735321045, Reconstruction error = 1.000396728515625\n",
      "Epoch 32: Quantization range = 1.3063459396362305, Reconstruction error = 1.0002343654632568\n",
      "Epoch 33: Quantization range = 1.3058364391326904, Reconstruction error = 1.000100016593933\n",
      "Epoch 34: Quantization range = 1.305355429649353, Reconstruction error = 0.9999908804893494\n",
      "Epoch 35: Quantization range = 1.3049030303955078, Reconstruction error = 0.9999040365219116\n",
      "Epoch 36: Quantization range = 1.3044792413711548, Reconstruction error = 0.9998367428779602\n",
      "Epoch 37: Quantization range = 1.3040839433670044, Reconstruction error = 0.9997862577438354\n",
      "Epoch 38: Quantization range = 1.3037168979644775, Reconstruction error = 0.9997502565383911\n",
      "Epoch 39: Quantization range = 1.3033779859542847, Reconstruction error = 0.9997263550758362\n",
      "Epoch 40: Quantization range = 1.3030667304992676, Reconstruction error = 0.999712347984314\n",
      "Epoch 41: Quantization range = 1.302782654762268, Reconstruction error = 0.999706506729126\n",
      "Epoch 42: Quantization range = 1.3025251626968384, Reconstruction error = 0.9997068047523499\n",
      "Epoch 43: Quantization range = 1.3022936582565308, Reconstruction error = 0.9997116923332214\n",
      "Epoch 44: Quantization range = 1.302087426185608, Reconstruction error = 0.99972003698349\n",
      "Epoch 45: Quantization range = 1.3019055128097534, Reconstruction error = 0.99973064661026\n",
      "Epoch 46: Quantization range = 1.30174720287323, Reconstruction error = 0.999742329120636\n",
      "Epoch 47: Quantization range = 1.3016114234924316, Reconstruction error = 0.9997543096542358\n",
      "Epoch 48: Quantization range = 1.3014971017837524, Reconstruction error = 0.9997659921646118\n",
      "Epoch 49: Quantization range = 1.301403284072876, Reconstruction error = 0.9997767210006714\n",
      "Epoch 50: Quantization range = 1.3013288974761963, Reconstruction error = 0.9997862577438354\n",
      "Epoch 51: Quantization range = 1.3012727499008179, Reconstruction error = 0.9997943043708801\n",
      "Epoch 52: Quantization range = 1.3012337684631348, Reconstruction error = 0.999800443649292\n",
      "Epoch 53: Quantization range = 1.3012107610702515, Reconstruction error = 0.9998049139976501\n",
      "Epoch 54: Quantization range = 1.3012025356292725, Reconstruction error = 0.9998076558113098\n",
      "Epoch 55: Quantization range = 1.3012079000473022, Reconstruction error = 0.9998085498809814\n",
      "Epoch 56: Quantization range = 1.3012256622314453, Reconstruction error = 0.9998079538345337\n",
      "Epoch 57: Quantization range = 1.3012546300888062, Reconstruction error = 0.9998059272766113\n",
      "Epoch 58: Quantization range = 1.3012937307357788, Reconstruction error = 0.9998025298118591\n",
      "Epoch 59: Quantization range = 1.3013417720794678, Reconstruction error = 0.999798059463501\n",
      "Epoch 60: Quantization range = 1.301397681236267, Reconstruction error = 0.9997928142547607\n",
      "Epoch 61: Quantization range = 1.3014603853225708, Reconstruction error = 0.9997868537902832\n",
      "Epoch 62: Quantization range = 1.3015289306640625, Reconstruction error = 0.999780535697937\n",
      "Epoch 63: Quantization range = 1.3016022443771362, Reconstruction error = 0.9997736215591431\n",
      "Epoch 64: Quantization range = 1.3016793727874756, Reconstruction error = 0.9997667670249939\n",
      "Epoch 65: Quantization range = 1.3017594814300537, Reconstruction error = 0.9997599124908447\n",
      "Epoch 66: Quantization range = 1.3018416166305542, Reconstruction error = 0.9997533559799194\n",
      "Epoch 67: Quantization range = 1.3019250631332397, Reconstruction error = 0.9997469782829285\n",
      "Epoch 68: Quantization range = 1.302009105682373, Reconstruction error = 0.9997409582138062\n",
      "Epoch 69: Quantization range = 1.3020930290222168, Reconstruction error = 0.9997352957725525\n",
      "Epoch 70: Quantization range = 1.3021761178970337, Reconstruction error = 0.9997304081916809\n",
      "Epoch 71: Quantization range = 1.3022578954696655, Reconstruction error = 0.9997258186340332\n",
      "Epoch 72: Quantization range = 1.3023377656936646, Reconstruction error = 0.9997217059135437\n",
      "Epoch 73: Quantization range = 1.3024152517318726, Reconstruction error = 0.9997183084487915\n",
      "Epoch 74: Quantization range = 1.302489995956421, Reconstruction error = 0.999715268611908\n",
      "Epoch 75: Quantization range = 1.302561640739441, Reconstruction error = 0.9997127652168274\n",
      "Epoch 76: Quantization range = 1.302629828453064, Reconstruction error = 0.999710738658905\n",
      "Epoch 77: Quantization range = 1.302694320678711, Reconstruction error = 0.9997091293334961\n",
      "Epoch 78: Quantization range = 1.3027549982070923, Reconstruction error = 0.9997078776359558\n",
      "Epoch 79: Quantization range = 1.302811622619629, Reconstruction error = 0.999707043170929\n",
      "Epoch 80: Quantization range = 1.3028640747070312, Reconstruction error = 0.9997064471244812\n",
      "Epoch 81: Quantization range = 1.3029122352600098, Reconstruction error = 0.9997060298919678\n",
      "Epoch 82: Quantization range = 1.3029561042785645, Reconstruction error = 0.9997058510780334\n",
      "Epoch 83: Quantization range = 1.3029956817626953, Reconstruction error = 0.999705970287323\n",
      "Epoch 84: Quantization range = 1.303031086921692, Reconstruction error = 0.9997059106826782\n",
      "Epoch 85: Quantization range = 1.3030623197555542, Reconstruction error = 0.9997060894966125\n",
      "Epoch 86: Quantization range = 1.3030894994735718, Reconstruction error = 0.9997062683105469\n",
      "Epoch 87: Quantization range = 1.3031127452850342, Reconstruction error = 0.9997065663337708\n",
      "Epoch 88: Quantization range = 1.303132176399231, Reconstruction error = 0.9997068643569946\n",
      "Epoch 89: Quantization range = 1.3031479120254517, Reconstruction error = 0.9997071027755737\n",
      "Epoch 90: Quantization range = 1.3031601905822754, Reconstruction error = 0.9997072815895081\n",
      "Epoch 91: Quantization range = 1.3031692504882812, Reconstruction error = 0.9997074604034424\n",
      "Epoch 92: Quantization range = 1.3031752109527588, Reconstruction error = 0.9997075796127319\n",
      "Epoch 93: Quantization range = 1.3031784296035767, Reconstruction error = 0.9997076988220215\n",
      "Epoch 94: Quantization range = 1.3031790256500244, Reconstruction error = 0.9997078776359558\n",
      "Epoch 95: Quantization range = 1.3031772375106812, Reconstruction error = 0.9997077584266663\n",
      "Epoch 96: Quantization range = 1.303173303604126, Reconstruction error = 0.9997076392173767\n",
      "Epoch 97: Quantization range = 1.303167462348938, Reconstruction error = 0.9997076988220215\n",
      "Epoch 98: Quantization range = 1.3031599521636963, Reconstruction error = 0.9997075796127319\n",
      "Epoch 99: Quantization range = 1.3031508922576904, Reconstruction error = 0.9997075200080872\n",
      "Epoch 100: Quantization range = 1.303140640258789, Reconstruction error = 0.9997073411941528\n",
      "Epoch 101: Quantization range = 1.3031293153762817, Reconstruction error = 0.9997072219848633\n",
      "Epoch 102: Quantization range = 1.3031171560287476, Reconstruction error = 0.999707043170929\n",
      "Epoch 103: Quantization range = 1.3031044006347656, Reconstruction error = 0.9997068643569946\n",
      "Epoch 104: Quantization range = 1.3030911684036255, Reconstruction error = 0.9997067451477051\n",
      "Epoch 105: Quantization range = 1.3030776977539062, Reconstruction error = 0.9997065663337708\n",
      "Epoch 106: Quantization range = 1.3030641078948975, Reconstruction error = 0.999706506729126\n",
      "Epoch 107: Quantization range = 1.3030505180358887, Reconstruction error = 0.9997062683105469\n",
      "Epoch 108: Quantization range = 1.3030370473861694, Reconstruction error = 0.9997061491012573\n",
      "Epoch 109: Quantization range = 1.3030239343643188, Reconstruction error = 0.9997060894966125\n",
      "Epoch 110: Quantization range = 1.303011178970337, Reconstruction error = 0.9997062087059021\n",
      "Epoch 111: Quantization range = 1.3029989004135132, Reconstruction error = 0.9997059106826782\n",
      "Epoch 112: Quantization range = 1.3029872179031372, Reconstruction error = 0.9997059106826782\n",
      "Epoch 113: Quantization range = 1.302976131439209, Reconstruction error = 0.9997059106826782\n",
      "Epoch 114: Quantization range = 1.302965760231018, Reconstruction error = 0.9997057914733887\n",
      "Epoch 115: Quantization range = 1.3029561042785645, Reconstruction error = 0.9997059106826782\n",
      "Epoch 116: Quantization range = 1.3029471635818481, Reconstruction error = 0.999705970287323\n",
      "Epoch 117: Quantization range = 1.3029390573501587, Reconstruction error = 0.9997059106826782\n",
      "Epoch 118: Quantization range = 1.302931785583496, Reconstruction error = 0.999705970287323\n",
      "Epoch 119: Quantization range = 1.3029252290725708, Reconstruction error = 0.9997059106826782\n",
      "Epoch 120: Quantization range = 1.3029195070266724, Reconstruction error = 0.9997059106826782\n",
      "Epoch 121: Quantization range = 1.3029146194458008, Reconstruction error = 0.999705970287323\n",
      "Epoch 122: Quantization range = 1.3029104471206665, Reconstruction error = 0.9997058510780334\n",
      "Epoch 123: Quantization range = 1.3029069900512695, Reconstruction error = 0.9997057914733887\n",
      "Epoch 124: Quantization range = 1.3029042482376099, Reconstruction error = 0.999705970287323\n",
      "Epoch 125: Quantization range = 1.3029022216796875, Reconstruction error = 0.999705970287323\n",
      "Epoch 126: Quantization range = 1.302900791168213, Reconstruction error = 0.9997058510780334\n",
      "Epoch 127: Quantization range = 1.302899956703186, Reconstruction error = 0.9997059106826782\n",
      "Epoch 128: Quantization range = 1.302899718284607, Reconstruction error = 0.9997060298919678\n",
      "Epoch 129: Quantization range = 1.302899956703186, Reconstruction error = 0.9997058510780334\n",
      "Epoch 130: Quantization range = 1.3029006719589233, Reconstruction error = 0.9997060298919678\n",
      "Epoch 131: Quantization range = 1.3029017448425293, Reconstruction error = 0.9997058510780334\n",
      "Epoch 132: Quantization range = 1.302903175354004, Reconstruction error = 0.9997059106826782\n",
      "Epoch 133: Quantization range = 1.3029049634933472, Reconstruction error = 0.9997059106826782\n",
      "Epoch 134: Quantization range = 1.3029069900512695, Reconstruction error = 0.9997057914733887\n",
      "Epoch 135: Quantization range = 1.302909255027771, Reconstruction error = 0.999705970287323\n",
      "Epoch 136: Quantization range = 1.302911639213562, Reconstruction error = 0.9997058510780334\n",
      "Epoch 137: Quantization range = 1.3029141426086426, Reconstruction error = 0.9997057914733887\n",
      "Epoch 138: Quantization range = 1.3029167652130127, Reconstruction error = 0.9997059106826782\n",
      "Epoch 139: Quantization range = 1.3029193878173828, Reconstruction error = 0.9997059106826782\n",
      "Epoch 140: Quantization range = 1.302922010421753, Reconstruction error = 0.9997058510780334\n",
      "Epoch 141: Quantization range = 1.302924633026123, Reconstruction error = 0.9997057914733887\n",
      "Epoch 142: Quantization range = 1.3029271364212036, Reconstruction error = 0.9997057318687439\n",
      "Epoch 143: Quantization range = 1.3029296398162842, Reconstruction error = 0.9997059106826782\n",
      "Epoch 144: Quantization range = 1.3029320240020752, Reconstruction error = 0.9997059106826782\n",
      "Epoch 145: Quantization range = 1.3029342889785767, Reconstruction error = 0.9997059106826782\n",
      "Epoch 146: Quantization range = 1.3029364347457886, Reconstruction error = 0.9997059106826782\n",
      "Epoch 147: Quantization range = 1.302938461303711, Reconstruction error = 0.9997059106826782\n",
      "Epoch 148: Quantization range = 1.3029402494430542, Reconstruction error = 0.9997057914733887\n",
      "Epoch 149: Quantization range = 1.302941918373108, Reconstruction error = 0.9997057914733887\n",
      "Epoch 150: Quantization range = 1.3029433488845825, Reconstruction error = 0.9997059106826782\n",
      "Epoch 151: Quantization range = 1.3029446601867676, Reconstruction error = 0.9997058510780334\n",
      "Epoch 152: Quantization range = 1.302945852279663, Reconstruction error = 0.9997058510780334\n",
      "Epoch 153: Quantization range = 1.3029468059539795, Reconstruction error = 0.9997058510780334\n",
      "Epoch 154: Quantization range = 1.3029476404190063, Reconstruction error = 0.999705970287323\n",
      "Epoch 155: Quantization range = 1.302948236465454, Reconstruction error = 0.9997059106826782\n",
      "Epoch 156: Quantization range = 1.3029487133026123, Reconstruction error = 0.9997058510780334\n",
      "Epoch 157: Quantization range = 1.302949070930481, Reconstruction error = 0.9997059106826782\n",
      "Epoch 158: Quantization range = 1.30294930934906, Reconstruction error = 0.9997059106826782\n",
      "Epoch 159: Quantization range = 1.3029494285583496, Reconstruction error = 0.9997057914733887\n",
      "Epoch 160: Quantization range = 1.3029494285583496, Reconstruction error = 0.9997059106826782\n",
      "Epoch 161: Quantization range = 1.30294930934906, Reconstruction error = 0.9997059106826782\n",
      "Epoch 162: Quantization range = 1.302949070930481, Reconstruction error = 0.9997057914733887\n",
      "Epoch 163: Quantization range = 1.3029487133026123, Reconstruction error = 0.9997059106826782\n",
      "Epoch 164: Quantization range = 1.3029483556747437, Reconstruction error = 0.9997059106826782\n",
      "Epoch 165: Quantization range = 1.3029478788375854, Reconstruction error = 0.9997058510780334\n",
      "Epoch 166: Quantization range = 1.3029474020004272, Reconstruction error = 0.9997057914733887\n",
      "Epoch 167: Quantization range = 1.302946925163269, Reconstruction error = 0.9997058510780334\n",
      "Epoch 168: Quantization range = 1.3029464483261108, Reconstruction error = 0.9997058510780334\n",
      "Epoch 169: Quantization range = 1.302945852279663, Reconstruction error = 0.9997057914733887\n",
      "Epoch 170: Quantization range = 1.3029452562332153, Reconstruction error = 0.9997058510780334\n",
      "Epoch 171: Quantization range = 1.3029446601867676, Reconstruction error = 0.999705970287323\n",
      "Epoch 172: Quantization range = 1.3029440641403198, Reconstruction error = 0.9997058510780334\n",
      "Epoch 173: Quantization range = 1.302943468093872, Reconstruction error = 0.9997058510780334\n",
      "Epoch 174: Quantization range = 1.3029429912567139, Reconstruction error = 0.9997057914733887\n",
      "Epoch 175: Quantization range = 1.3029425144195557, Reconstruction error = 0.9997057318687439\n",
      "Epoch 176: Quantization range = 1.3029420375823975, Reconstruction error = 0.9997057914733887\n",
      "Epoch 177: Quantization range = 1.3029415607452393, Reconstruction error = 0.9997058510780334\n",
      "Epoch 178: Quantization range = 1.3029412031173706, Reconstruction error = 0.9997057914733887\n",
      "Epoch 179: Quantization range = 1.302940845489502, Reconstruction error = 0.9997058510780334\n",
      "Epoch 180: Quantization range = 1.3029404878616333, Reconstruction error = 0.9997057914733887\n",
      "Epoch 181: Quantization range = 1.3029402494430542, Reconstruction error = 0.9997058510780334\n",
      "Epoch 182: Quantization range = 1.302940011024475, Reconstruction error = 0.9997057914733887\n",
      "Epoch 183: Quantization range = 1.302939772605896, Reconstruction error = 0.9997059106826782\n",
      "Epoch 184: Quantization range = 1.3029396533966064, Reconstruction error = 0.9997059106826782\n",
      "Epoch 185: Quantization range = 1.302939534187317, Reconstruction error = 0.9997057914733887\n",
      "Epoch 186: Quantization range = 1.3029394149780273, Reconstruction error = 0.9997059106826782\n",
      "Epoch 187: Quantization range = 1.3029394149780273, Reconstruction error = 0.9997058510780334\n",
      "Epoch 188: Quantization range = 1.3029394149780273, Reconstruction error = 0.9997058510780334\n",
      "Epoch 189: Quantization range = 1.3029394149780273, Reconstruction error = 0.9997058510780334\n",
      "Epoch 190: Quantization range = 1.3029394149780273, Reconstruction error = 0.9997058510780334\n",
      "Epoch 191: Quantization range = 1.3029394149780273, Reconstruction error = 0.9997058510780334\n",
      "Epoch 192: Quantization range = 1.302939534187317, Reconstruction error = 0.9997058510780334\n",
      "Epoch 193: Quantization range = 1.3029396533966064, Reconstruction error = 0.9997059106826782\n",
      "Epoch 194: Quantization range = 1.302939772605896, Reconstruction error = 0.9997057914733887\n",
      "Epoch 195: Quantization range = 1.3029398918151855, Reconstruction error = 0.9997059106826782\n",
      "Epoch 196: Quantization range = 1.302940011024475, Reconstruction error = 0.9997057318687439\n",
      "Epoch 197: Quantization range = 1.3029401302337646, Reconstruction error = 0.9997059106826782\n",
      "Epoch 198: Quantization range = 1.3029402494430542, Reconstruction error = 0.9997058510780334\n",
      "Epoch 199: Quantization range = 1.3029403686523438, Reconstruction error = 0.9997057914733887\n",
      "Epoch 200: Quantization range = 1.3029404878616333, Reconstruction error = 0.9997058510780334\n"
     ]
    }
   ],
   "source": [
    "# quantize the vector using EasyQuant\n",
    "config = EasyQuantConfig(learning_rate=1e-3, num_epochs=200)\n",
    "\n",
    "easy_quant_wrapper = EasyQuant(num_bits=num_bits, config=config, verbose=True)\n",
    "\n",
    "q_range, quantized_vector, q_range_history, reconstruction_error_history = easy_quant_wrapper.quantize_and_reconstruct(original_tensor)"
   ]
  },
  {
   "cell_type": "code",
   "execution_count": 11,
   "metadata": {},
   "outputs": [
    {
     "data": {
      "image/png": "[encoded data removed]",
      "text/plain": [
       "<Figure size 1200x600 with 2 Axes>"
      ]
     },
     "metadata": {},
     "output_type": "display_data"
    }
   ],
   "source": [
    "# Plot reconstruction error\n",
    "plt.figure(figsize=(12, 6))\n",
    "\n",
    "plt.subplot(1, 2, 1)\n",
    "plt.plot(reconstruction_error_history, label=\"Reconstruction Error\")\n",
    "plt.xlabel(\"Iteration\")\n",
    "plt.ylabel(\"Reconstruction Error\")\n",
    "plt.title(\"Reconstruction Error vs Iterations\")\n",
    "plt.legend()\n",
    "\n",
    "# Plot q_range\n",
    "plt.subplot(1, 2, 2)\n",
    "plt.plot(q_range_history, label=\"Q Range\", color=\"orange\")\n",
    "plt.xlabel(\"Iteration\")\n",
    "plt.ylabel(\"Q Range\")\n",
    "plt.title(\"Q Range vs Iterations\")\n",
    "plt.legend()\n",
    "\n",
    "plt.tight_layout()\n",
    "plt.show()"
   ]
  },
  {
   "cell_type": "code",
   "execution_count": 12,
   "metadata": {},
   "outputs": [
    {
     "name": "stdout",
     "output_type": "stream",
     "text": [
      "Original Vector: [3.2, -1.4, 2.5, -0.9, 1.8, -3.7, 0.0, 4.0, 2.2, -1.3]\n",
      "Quantized Vector: tensor([ 2.6059, -1.3029,  2.6059, -1.3029,  1.3029, -3.9088,  0.0000,  3.9088,\n",
      "         2.6059, -1.3029])\n"
     ]
    }
   ],
   "source": [
    "print(f\"Original Vector: {original_vector}\")\n",
    "print(f\"Quantized Vector: {quantized_vector}\")"
   ]
  },
  {
   "cell_type": "code",
   "execution_count": 13,
   "metadata": {},
   "outputs": [
    {
     "name": "stdout",
     "output_type": "stream",
     "text": [
      "Quantization Error: 0.9997058510780334\n"
     ]
    }
   ],
   "source": [
    "print(f\"Quantization Error: {compute_quantization_error(original_tensor, quantized_vector)}\")"
   ]
  },
  {
   "cell_type": "markdown",
   "metadata": {},
   "source": [
    "# Quantize a vector using SqueezeLLM"
   ]
  },
  {
   "cell_type": "markdown",
   "metadata": {},
   "source": [
    "Since the values in the vector has no sensitivity information, uniform-weight k-means was used."
   ]
  },
  {
   "cell_type": "code",
   "execution_count": 7,
   "metadata": {},
   "outputs": [],
   "source": [
    "from core.models.squeeze_llm import SqueezeQuant, SqueezeQuantConfig"
   ]
  },
  {
   "cell_type": "code",
   "execution_count": 8,
   "metadata": {},
   "outputs": [],
   "source": [
    "squeeze_quant_config = SqueezeQuantConfig(k_means_max_iter=100, use_sensitivity=False)\n",
    "\n",
    "squeeze_quant_wrapper = SqueezeQuant(num_bits=num_bits, config=squeeze_quant_config, verbose=True)\n",
    "\n",
    "reconstructed_data, _ = squeeze_quant_wrapper.quantize_and_reconstruct(original_tensor)"
   ]
  },
  {
   "cell_type": "code",
   "execution_count": 9,
   "metadata": {},
   "outputs": [
    {
     "name": "stdout",
     "output_type": "stream",
     "text": [
      "Original Vector: tensor([ 3.2000, -1.4000,  2.5000, -0.9000,  1.8000, -3.7000,  0.0000,  4.0000,\n",
      "         2.2000, -1.3000])\n",
      "Reconstructed Vector: tensor([ 3.2000, -1.3500,  2.3500, -0.9000,  1.8000, -3.7000,  0.0000,  4.0000,\n",
      "         2.3500, -1.3500])\n",
      "Quantization Error: 0.049999989569187164\n"
     ]
    }
   ],
   "source": [
    "print(f\"Original Vector: {original_tensor}\")\n",
    "print(f\"Reconstructed Vector: {reconstructed_data}\")\n",
    "\n",
    "print(f\"Quantization Error: {compute_quantization_error(original_tensor, reconstructed_data)}\")"
   ]
  },
  {
   "cell_type": "markdown",
   "metadata": {},
   "source": [
    "**Observation**"
   ]
  },
  {
   "cell_type": "markdown",
   "metadata": {},
   "source": [
    "From the comparison of L2 quantization error, you can see that the non-uniform quantization method can achieve better quantization in terms of accuracy. This is a natural result because non-uniform quantization has less constraints and can fit better to the original data. (In this case, it's clustering 10 values into 8 unique values, so it's no wonder the reconstruction error is extremely low."
   ]
  }
 ],
 "metadata": {
  "kernelspec": {
   "display_name": "quantization-ubRKDRCl-py3.11",
   "language": "python",
   "name": "python3"
  },
  "language_info": {
   "codemirror_mode": {
    "name": "ipython",
    "version": 3
   },
   "file_extension": ".py",
   "mimetype": "text/x-python",
   "name": "python",
   "nbconvert_exporter": "python",
   "pygments_lexer": "ipython3",
   "version": "3.11.7"
  }
 },
 "nbformat": 4,
 "nbformat_minor": 2
}
